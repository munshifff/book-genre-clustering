{
 "cells": [
  {
   "cell_type": "code",
   "execution_count": 1,
   "id": "3b8fcad4",
   "metadata": {},
   "outputs": [],
   "source": [
    "import pandas as pd \n",
    "import numpy as np \n",
    "import matplotlib.pyplot as plt\n",
    "import seaborn as sns\n",
    "from sklearn.feature_extraction.text import TfidfVectorizer\n",
    "from sklearn.preprocessing import StandardScaler\n",
    "from sklearn.cluster import KMeans\n",
    "from scipy.sparse import hstack\n",
    "from sklearn.decomposition import PCA\n",
    "import seaborn as sns"
   ]
  },
  {
   "cell_type": "code",
   "execution_count": 2,
   "id": "a80a2dfe",
   "metadata": {},
   "outputs": [
    {
     "data": {
      "application/vnd.microsoft.datawrangler.viewer.v0+json": {
       "columns": [
        {
         "name": "index",
         "rawType": "int64",
         "type": "integer"
        },
        {
         "name": "title",
         "rawType": "object",
         "type": "string"
        },
        {
         "name": "author",
         "rawType": "object",
         "type": "string"
        },
        {
         "name": "rating_info",
         "rawType": "object",
         "type": "string"
        }
       ],
       "ref": "4ae3ebb7-8d2c-45f4-a68b-0b8c1affe9e3",
       "rows": [
        [
         "0",
         "The Hunger Games (The Hunger Games, #1)",
         "Suzanne Collins",
         "4.35 avg rating — 9,682,830 ratings"
        ],
        [
         "1",
         "Pride and Prejudice",
         "Jane Austen",
         "4.29 avg rating — 4,682,657 ratings"
        ],
        [
         "2",
         "To Kill a Mockingbird",
         "Harper Lee",
         "4.26 avg rating — 6,742,178 ratings"
        ],
        [
         "3",
         "Harry Potter and the Order of the Phoenix (Harry Potter, #5)",
         "J.K. Rowling",
         "4.50 avg rating — 3,720,909 ratings"
        ],
        [
         "4",
         "The Book Thief",
         "Markus Zusak",
         "4.39 avg rating — 2,823,344 ratings"
        ]
       ],
       "shape": {
        "columns": 3,
        "rows": 5
       }
      },
      "text/html": [
       "<div>\n",
       "<style scoped>\n",
       "    .dataframe tbody tr th:only-of-type {\n",
       "        vertical-align: middle;\n",
       "    }\n",
       "\n",
       "    .dataframe tbody tr th {\n",
       "        vertical-align: top;\n",
       "    }\n",
       "\n",
       "    .dataframe thead th {\n",
       "        text-align: right;\n",
       "    }\n",
       "</style>\n",
       "<table border=\"1\" class=\"dataframe\">\n",
       "  <thead>\n",
       "    <tr style=\"text-align: right;\">\n",
       "      <th></th>\n",
       "      <th>title</th>\n",
       "      <th>author</th>\n",
       "      <th>rating_info</th>\n",
       "    </tr>\n",
       "  </thead>\n",
       "  <tbody>\n",
       "    <tr>\n",
       "      <th>0</th>\n",
       "      <td>The Hunger Games (The Hunger Games, #1)</td>\n",
       "      <td>Suzanne Collins</td>\n",
       "      <td>4.35 avg rating — 9,682,830 ratings</td>\n",
       "    </tr>\n",
       "    <tr>\n",
       "      <th>1</th>\n",
       "      <td>Pride and Prejudice</td>\n",
       "      <td>Jane Austen</td>\n",
       "      <td>4.29 avg rating — 4,682,657 ratings</td>\n",
       "    </tr>\n",
       "    <tr>\n",
       "      <th>2</th>\n",
       "      <td>To Kill a Mockingbird</td>\n",
       "      <td>Harper Lee</td>\n",
       "      <td>4.26 avg rating — 6,742,178 ratings</td>\n",
       "    </tr>\n",
       "    <tr>\n",
       "      <th>3</th>\n",
       "      <td>Harry Potter and the Order of the Phoenix (Har...</td>\n",
       "      <td>J.K. Rowling</td>\n",
       "      <td>4.50 avg rating — 3,720,909 ratings</td>\n",
       "    </tr>\n",
       "    <tr>\n",
       "      <th>4</th>\n",
       "      <td>The Book Thief</td>\n",
       "      <td>Markus Zusak</td>\n",
       "      <td>4.39 avg rating — 2,823,344 ratings</td>\n",
       "    </tr>\n",
       "  </tbody>\n",
       "</table>\n",
       "</div>"
      ],
      "text/plain": [
       "                                               title           author  \\\n",
       "0            The Hunger Games (The Hunger Games, #1)  Suzanne Collins   \n",
       "1                                Pride and Prejudice      Jane Austen   \n",
       "2                              To Kill a Mockingbird       Harper Lee   \n",
       "3  Harry Potter and the Order of the Phoenix (Har...     J.K. Rowling   \n",
       "4                                     The Book Thief     Markus Zusak   \n",
       "\n",
       "                           rating_info  \n",
       "0  4.35 avg rating — 9,682,830 ratings  \n",
       "1  4.29 avg rating — 4,682,657 ratings  \n",
       "2  4.26 avg rating — 6,742,178 ratings  \n",
       "3  4.50 avg rating — 3,720,909 ratings  \n",
       "4  4.39 avg rating — 2,823,344 ratings  "
      ]
     },
     "execution_count": 2,
     "metadata": {},
     "output_type": "execute_result"
    }
   ],
   "source": [
    "df = pd.read_csv(\"../data/goodreads_books.csv\")\n",
    "df.head()"
   ]
  },
  {
   "cell_type": "code",
   "execution_count": 3,
   "id": "96d45a44",
   "metadata": {},
   "outputs": [
    {
     "data": {
      "application/vnd.microsoft.datawrangler.viewer.v0+json": {
       "columns": [
        {
         "name": "index",
         "rawType": "int64",
         "type": "integer"
        },
        {
         "name": "avg_rating",
         "rawType": "float64",
         "type": "float"
        }
       ],
       "ref": "73b601df-4bcb-4032-bed2-296b80f5d825",
       "rows": [
        [
         "0",
         "4.35"
        ],
        [
         "1",
         "4.29"
        ],
        [
         "2",
         "4.26"
        ],
        [
         "3",
         "4.5"
        ],
        [
         "4",
         "4.39"
        ],
        [
         "5",
         "3.67"
        ],
        [
         "6",
         "4.01"
        ],
        [
         "7",
         "4.61"
        ],
        [
         "8",
         "4.28"
        ],
        [
         "9",
         "4.12"
        ],
        [
         "10",
         "4.13"
        ],
        [
         "11",
         "3.9"
        ],
        [
         "12",
         "4.31"
        ],
        [
         "13",
         "4.38"
        ],
        [
         "14",
         "4.5"
        ],
        [
         "15",
         "4.31"
        ],
        [
         "16",
         "4.24"
        ],
        [
         "17",
         "4.33"
        ],
        [
         "18",
         "4.16"
        ],
        [
         "19",
         "3.93"
        ],
        [
         "20",
         "4.28"
        ],
        [
         "21",
         "3.93"
        ],
        [
         "22",
         "4.06"
        ],
        [
         "23",
         "4.13"
        ],
        [
         "24",
         "4.16"
        ],
        [
         "25",
         "4.21"
        ],
        [
         "26",
         "3.92"
        ],
        [
         "27",
         "4.32"
        ],
        [
         "28",
         "3.7"
        ],
        [
         "29",
         "3.74"
        ],
        [
         "30",
         "3.99"
        ],
        [
         "31",
         "4.22"
        ],
        [
         "32",
         "4.07"
        ],
        [
         "33",
         "4.47"
        ],
        [
         "34",
         "4.02"
        ],
        [
         "35",
         "4.21"
        ],
        [
         "36",
         "3.97"
        ],
        [
         "37",
         "3.89"
        ],
        [
         "38",
         "4.31"
        ],
        [
         "39",
         "3.8"
        ],
        [
         "40",
         "4.2"
        ],
        [
         "41",
         "4.12"
        ],
        [
         "42",
         "4.17"
        ],
        [
         "43",
         "4.45"
        ],
        [
         "44",
         "4.14"
        ],
        [
         "45",
         "4.17"
        ],
        [
         "46",
         "4.27"
        ],
        [
         "47",
         "4.45"
        ],
        [
         "48",
         "4.0"
        ],
        [
         "49",
         "4.62"
        ]
       ],
       "shape": {
        "columns": 1,
        "rows": 66800
       }
      },
      "text/plain": [
       "0        4.35\n",
       "1        4.29\n",
       "2        4.26\n",
       "3        4.50\n",
       "4        4.39\n",
       "         ... \n",
       "66795    3.60\n",
       "66796    3.43\n",
       "66797    3.98\n",
       "66798    3.80\n",
       "66799    3.83\n",
       "Name: avg_rating, Length: 66800, dtype: float64"
      ]
     },
     "execution_count": 3,
     "metadata": {},
     "output_type": "execute_result"
    }
   ],
   "source": [
    "df[\"avg_rating\"] = df[\"rating_info\"].str.extract(r\"([0-9]\\.\\d+)\").astype(float)\n",
    "df[\"avg_rating\"]"
   ]
  },
  {
   "cell_type": "code",
   "execution_count": 4,
   "id": "bc401844",
   "metadata": {},
   "outputs": [
    {
     "data": {
      "application/vnd.microsoft.datawrangler.viewer.v0+json": {
       "columns": [
        {
         "name": "index",
         "rawType": "int64",
         "type": "integer"
        },
        {
         "name": "num_rating",
         "rawType": "int64",
         "type": "integer"
        }
       ],
       "ref": "6cd79b72-697a-403c-8b97-769baeda79fa",
       "rows": [
        [
         "0",
         "9682830"
        ],
        [
         "1",
         "4682657"
        ],
        [
         "2",
         "6742178"
        ],
        [
         "3",
         "3720909"
        ],
        [
         "4",
         "2823344"
        ],
        [
         "5",
         "7175273"
        ],
        [
         "6",
         "4411383"
        ],
        [
         "7",
         "142266"
        ],
        [
         "8",
         "698139"
        ],
        [
         "9",
         "5620339"
        ],
        [
         "10",
         "1809485"
        ],
        [
         "11",
         "1977842"
        ],
        [
         "12",
         "3364105"
        ],
        [
         "13",
         "1217169"
        ],
        [
         "14",
         "3720909"
        ],
        [
         "15",
         "1248425"
        ],
        [
         "16",
         "1963398"
        ],
        [
         "17",
         "2403285"
        ],
        [
         "18",
         "2277813"
        ],
        [
         "19",
         "5782379"
        ],
        [
         "20",
         "1040472"
        ],
        [
         "21",
         "2489096"
        ],
        [
         "22",
         "601126"
        ],
        [
         "23",
         "4313495"
        ],
        [
         "24",
         "2090885"
        ],
        [
         "25",
         "834468"
        ],
        [
         "26",
         "3470245"
        ],
        [
         "27",
         "1089256"
        ],
        [
         "28",
         "3140481"
        ],
        [
         "29",
         "2783415"
        ],
        [
         "30",
         "2034857"
        ],
        [
         "31",
         "1983017"
        ],
        [
         "32",
         "2139857"
        ],
        [
         "33",
         "2978503"
        ],
        [
         "34",
         "1428953"
        ],
        [
         "35",
         "2008913"
        ],
        [
         "36",
         "2751945"
        ],
        [
         "37",
         "2774393"
        ],
        [
         "38",
         "1456998"
        ],
        [
         "39",
         "3827546"
        ],
        [
         "40",
         "5294002"
        ],
        [
         "41",
         "1080633"
        ],
        [
         "42",
         "2411630"
        ],
        [
         "43",
         "1698698"
        ],
        [
         "44",
         "1555825"
        ],
        [
         "45",
         "1272752"
        ],
        [
         "46",
         "940115"
        ],
        [
         "47",
         "2690830"
        ],
        [
         "48",
         "1847679"
        ],
        [
         "49",
         "4038196"
        ]
       ],
       "shape": {
        "columns": 1,
        "rows": 66800
       }
      },
      "text/plain": [
       "0        9682830\n",
       "1        4682657\n",
       "2        6742178\n",
       "3        3720909\n",
       "4        2823344\n",
       "          ...   \n",
       "66795       9557\n",
       "66796      92459\n",
       "66797      22679\n",
       "66798      17350\n",
       "66799      22612\n",
       "Name: num_rating, Length: 66800, dtype: int64"
      ]
     },
     "execution_count": 4,
     "metadata": {},
     "output_type": "execute_result"
    }
   ],
   "source": [
    "df[\"num_rating\"] = (df[\"rating_info\"].str.extract(r\"— ([\\d,]+) ratings\")[0]\n",
    "                                           .str.replace(\",\", \"\", regex=True).astype(int))\n",
    "\n",
    "df[\"num_rating\"]"
   ]
  },
  {
   "cell_type": "code",
   "execution_count": 5,
   "id": "2ee73919",
   "metadata": {},
   "outputs": [
    {
     "data": {
      "application/vnd.microsoft.datawrangler.viewer.v0+json": {
       "columns": [
        {
         "name": "index",
         "rawType": "int64",
         "type": "integer"
        },
        {
         "name": "title",
         "rawType": "object",
         "type": "string"
        },
        {
         "name": "author",
         "rawType": "object",
         "type": "string"
        },
        {
         "name": "avg_rating",
         "rawType": "float64",
         "type": "float"
        },
        {
         "name": "num_rating",
         "rawType": "int64",
         "type": "integer"
        }
       ],
       "ref": "b8cf7476-5f39-410e-9c15-8df4fbb09219",
       "rows": [
        [
         "0",
         "The Hunger Games (The Hunger Games, #1)",
         "Suzanne Collins",
         "4.35",
         "9682830"
        ],
        [
         "1",
         "Pride and Prejudice",
         "Jane Austen",
         "4.29",
         "4682657"
        ],
        [
         "2",
         "To Kill a Mockingbird",
         "Harper Lee",
         "4.26",
         "6742178"
        ],
        [
         "3",
         "Harry Potter and the Order of the Phoenix (Harry Potter, #5)",
         "J.K. Rowling",
         "4.5",
         "3720909"
        ],
        [
         "4",
         "The Book Thief",
         "Markus Zusak",
         "4.39",
         "2823344"
        ]
       ],
       "shape": {
        "columns": 4,
        "rows": 5
       }
      },
      "text/html": [
       "<div>\n",
       "<style scoped>\n",
       "    .dataframe tbody tr th:only-of-type {\n",
       "        vertical-align: middle;\n",
       "    }\n",
       "\n",
       "    .dataframe tbody tr th {\n",
       "        vertical-align: top;\n",
       "    }\n",
       "\n",
       "    .dataframe thead th {\n",
       "        text-align: right;\n",
       "    }\n",
       "</style>\n",
       "<table border=\"1\" class=\"dataframe\">\n",
       "  <thead>\n",
       "    <tr style=\"text-align: right;\">\n",
       "      <th></th>\n",
       "      <th>title</th>\n",
       "      <th>author</th>\n",
       "      <th>avg_rating</th>\n",
       "      <th>num_rating</th>\n",
       "    </tr>\n",
       "  </thead>\n",
       "  <tbody>\n",
       "    <tr>\n",
       "      <th>0</th>\n",
       "      <td>The Hunger Games (The Hunger Games, #1)</td>\n",
       "      <td>Suzanne Collins</td>\n",
       "      <td>4.35</td>\n",
       "      <td>9682830</td>\n",
       "    </tr>\n",
       "    <tr>\n",
       "      <th>1</th>\n",
       "      <td>Pride and Prejudice</td>\n",
       "      <td>Jane Austen</td>\n",
       "      <td>4.29</td>\n",
       "      <td>4682657</td>\n",
       "    </tr>\n",
       "    <tr>\n",
       "      <th>2</th>\n",
       "      <td>To Kill a Mockingbird</td>\n",
       "      <td>Harper Lee</td>\n",
       "      <td>4.26</td>\n",
       "      <td>6742178</td>\n",
       "    </tr>\n",
       "    <tr>\n",
       "      <th>3</th>\n",
       "      <td>Harry Potter and the Order of the Phoenix (Har...</td>\n",
       "      <td>J.K. Rowling</td>\n",
       "      <td>4.50</td>\n",
       "      <td>3720909</td>\n",
       "    </tr>\n",
       "    <tr>\n",
       "      <th>4</th>\n",
       "      <td>The Book Thief</td>\n",
       "      <td>Markus Zusak</td>\n",
       "      <td>4.39</td>\n",
       "      <td>2823344</td>\n",
       "    </tr>\n",
       "  </tbody>\n",
       "</table>\n",
       "</div>"
      ],
      "text/plain": [
       "                                               title           author  \\\n",
       "0            The Hunger Games (The Hunger Games, #1)  Suzanne Collins   \n",
       "1                                Pride and Prejudice      Jane Austen   \n",
       "2                              To Kill a Mockingbird       Harper Lee   \n",
       "3  Harry Potter and the Order of the Phoenix (Har...     J.K. Rowling   \n",
       "4                                     The Book Thief     Markus Zusak   \n",
       "\n",
       "   avg_rating  num_rating  \n",
       "0        4.35     9682830  \n",
       "1        4.29     4682657  \n",
       "2        4.26     6742178  \n",
       "3        4.50     3720909  \n",
       "4        4.39     2823344  "
      ]
     },
     "execution_count": 5,
     "metadata": {},
     "output_type": "execute_result"
    }
   ],
   "source": [
    "df = df.drop(columns=[\"rating_info\"])\n",
    "df.head()"
   ]
  },
  {
   "cell_type": "code",
   "execution_count": 6,
   "id": "2ddc520c",
   "metadata": {},
   "outputs": [],
   "source": [
    "df.to_csv(\"../data/goodreads_books_changed.csv\", index=False)"
   ]
  },
  {
   "cell_type": "code",
   "execution_count": 2,
   "id": "f27536df",
   "metadata": {},
   "outputs": [
    {
     "data": {
      "application/vnd.microsoft.datawrangler.viewer.v0+json": {
       "columns": [
        {
         "name": "index",
         "rawType": "int64",
         "type": "integer"
        },
        {
         "name": "title",
         "rawType": "object",
         "type": "string"
        },
        {
         "name": "author",
         "rawType": "object",
         "type": "string"
        },
        {
         "name": "avg_rating",
         "rawType": "float64",
         "type": "float"
        },
        {
         "name": "num_rating",
         "rawType": "int64",
         "type": "integer"
        }
       ],
       "ref": "70487384-1f30-422f-a0b7-473fbfb9c84a",
       "rows": [
        [
         "0",
         "The Hunger Games (The Hunger Games, #1)",
         "Suzanne Collins",
         "4.35",
         "9682830"
        ],
        [
         "1",
         "Pride and Prejudice",
         "Jane Austen",
         "4.29",
         "4682657"
        ],
        [
         "2",
         "To Kill a Mockingbird",
         "Harper Lee",
         "4.26",
         "6742178"
        ],
        [
         "3",
         "Harry Potter and the Order of the Phoenix (Harry Potter, #5)",
         "J.K. Rowling",
         "4.5",
         "3720909"
        ],
        [
         "4",
         "The Book Thief",
         "Markus Zusak",
         "4.39",
         "2823344"
        ]
       ],
       "shape": {
        "columns": 4,
        "rows": 5
       }
      },
      "text/html": [
       "<div>\n",
       "<style scoped>\n",
       "    .dataframe tbody tr th:only-of-type {\n",
       "        vertical-align: middle;\n",
       "    }\n",
       "\n",
       "    .dataframe tbody tr th {\n",
       "        vertical-align: top;\n",
       "    }\n",
       "\n",
       "    .dataframe thead th {\n",
       "        text-align: right;\n",
       "    }\n",
       "</style>\n",
       "<table border=\"1\" class=\"dataframe\">\n",
       "  <thead>\n",
       "    <tr style=\"text-align: right;\">\n",
       "      <th></th>\n",
       "      <th>title</th>\n",
       "      <th>author</th>\n",
       "      <th>avg_rating</th>\n",
       "      <th>num_rating</th>\n",
       "    </tr>\n",
       "  </thead>\n",
       "  <tbody>\n",
       "    <tr>\n",
       "      <th>0</th>\n",
       "      <td>The Hunger Games (The Hunger Games, #1)</td>\n",
       "      <td>Suzanne Collins</td>\n",
       "      <td>4.35</td>\n",
       "      <td>9682830</td>\n",
       "    </tr>\n",
       "    <tr>\n",
       "      <th>1</th>\n",
       "      <td>Pride and Prejudice</td>\n",
       "      <td>Jane Austen</td>\n",
       "      <td>4.29</td>\n",
       "      <td>4682657</td>\n",
       "    </tr>\n",
       "    <tr>\n",
       "      <th>2</th>\n",
       "      <td>To Kill a Mockingbird</td>\n",
       "      <td>Harper Lee</td>\n",
       "      <td>4.26</td>\n",
       "      <td>6742178</td>\n",
       "    </tr>\n",
       "    <tr>\n",
       "      <th>3</th>\n",
       "      <td>Harry Potter and the Order of the Phoenix (Har...</td>\n",
       "      <td>J.K. Rowling</td>\n",
       "      <td>4.50</td>\n",
       "      <td>3720909</td>\n",
       "    </tr>\n",
       "    <tr>\n",
       "      <th>4</th>\n",
       "      <td>The Book Thief</td>\n",
       "      <td>Markus Zusak</td>\n",
       "      <td>4.39</td>\n",
       "      <td>2823344</td>\n",
       "    </tr>\n",
       "  </tbody>\n",
       "</table>\n",
       "</div>"
      ],
      "text/plain": [
       "                                               title           author  \\\n",
       "0            The Hunger Games (The Hunger Games, #1)  Suzanne Collins   \n",
       "1                                Pride and Prejudice      Jane Austen   \n",
       "2                              To Kill a Mockingbird       Harper Lee   \n",
       "3  Harry Potter and the Order of the Phoenix (Har...     J.K. Rowling   \n",
       "4                                     The Book Thief     Markus Zusak   \n",
       "\n",
       "   avg_rating  num_rating  \n",
       "0        4.35     9682830  \n",
       "1        4.29     4682657  \n",
       "2        4.26     6742178  \n",
       "3        4.50     3720909  \n",
       "4        4.39     2823344  "
      ]
     },
     "execution_count": 2,
     "metadata": {},
     "output_type": "execute_result"
    }
   ],
   "source": [
    "df = pd.read_csv(\"../data/goodreads_books_changed.csv\")\n",
    "df.head()"
   ]
  },
  {
   "cell_type": "markdown",
   "id": "e0b94399",
   "metadata": {},
   "source": [
    "### EDA\n"
   ]
  },
  {
   "cell_type": "code",
   "execution_count": 4,
   "id": "16cdcdc4",
   "metadata": {},
   "outputs": [
    {
     "data": {
      "image/png": "[encoded data removed]",
      "text/plain": [
       "<Figure size 800x500 with 1 Axes>"
      ]
     },
     "metadata": {},
     "output_type": "display_data"
    }
   ],
   "source": [
    "plt.figure(figsize=(8,5))\n",
    "sns.histplot(df[\"avg_rating\"], bins=30, kde=True)\n",
    "plt.title(\"Distribution of average rating\")\n",
    "plt.show()"
   ]
  },
  {
   "cell_type": "code",
   "execution_count": 5,
   "id": "fcbdafff",
   "metadata": {},
   "outputs": [
    {
     "data": {
      "image/png": "[encoded data removed]",
      "text/plain": [
       "<Figure size 1000x500 with 1 Axes>"
      ]
     },
     "metadata": {},
     "output_type": "display_data"
    }
   ],
   "source": [
    "top_authors = df[\"author\"].value_counts().head(15)\n",
    "plt.figure(figsize=(10,5))\n",
    "sns.barplot(x=top_authors.values, y=top_authors.index)\n",
    "plt.title(\"Top 15 Authors by Number of Books\")\n",
    "plt.show()"
   ]
  },
  {
   "cell_type": "code",
   "execution_count": 6,
   "id": "4b08df10",
   "metadata": {},
   "outputs": [],
   "source": [
    "df[\"text\"] = df[\"title\"] + \" \" + df[\"author\"]\n",
    "\n",
    "tfidf = TfidfVectorizer(stop_words=\"english\", max_features=10000)\n",
    "X_text = tfidf.fit_transform(df[\"text\"])"
   ]
  },
  {
   "cell_type": "code",
   "execution_count": 7,
   "id": "48bf71dc",
   "metadata": {},
   "outputs": [],
   "source": [
    "# Scale numeric features\n",
    "scaler = StandardScaler()\n",
    "X_num = scaler.fit_transform(df[['avg_rating', 'num_rating']])\n",
    "\n",
    "# Combine features\n",
    "X = hstack([X_text, X_num])"
   ]
  },
  {
   "cell_type": "code",
   "execution_count": 8,
   "id": "ef1a5fe5",
   "metadata": {},
   "outputs": [
    {
     "data": {
      "image/png": "[encoded data removed]",
      "text/plain": [
       "<Figure size 800x500 with 1 Axes>"
      ]
     },
     "metadata": {},
     "output_type": "display_data"
    }
   ],
   "source": [
    "# Determine optimal k using Elbow Method\n",
    "inertia = []\n",
    "K = range(2, 15)\n",
    "for k in K:\n",
    "    km = KMeans(n_clusters=k, random_state=42)\n",
    "    km.fit(X)\n",
    "    inertia.append(km.inertia_)\n",
    "\n",
    "plt.figure(figsize=(8,5))\n",
    "plt.plot(K, inertia, marker='o')\n",
    "plt.xlabel(\"Number of Clusters (k)\")\n",
    "plt.ylabel(\"Inertia\")\n",
    "plt.title(\"Elbow Method for Optimal K\")\n",
    "plt.show()\n"
   ]
  },
  {
   "cell_type": "code",
   "execution_count": 9,
   "id": "297b0dd0",
   "metadata": {},
   "outputs": [],
   "source": [
    "# Fit KMeans with chosen k\n",
    "optimal_k = 5\n",
    "kmeans = KMeans(n_clusters=optimal_k, random_state=42)\n",
    "df['cluster'] = kmeans.fit_predict(X)"
   ]
  },
  {
   "cell_type": "code",
   "execution_count": 10,
   "id": "4bde977a",
   "metadata": {},
   "outputs": [
    {
     "name": "stdout",
     "output_type": "stream",
     "text": [
      "\n",
      "Cluster 0 top terms: death, bidadari, 11, glines, abbi, ghosts, conan, gogol, nikolai, far\n",
      "\n",
      "Cluster 1 top terms: infected, aimee, dexter, mannino, goddess, bodeen, raft, julie, group, mccarthy\n",
      "\n",
      "Cluster 2 top terms: potter, harry, court, rowling, 1984, roses, thorns, orwell, george, hoover\n",
      "\n",
      "Cluster 3 top terms: dragon, altered, bone, ringworld, mannino, thomas, tryon, patricia, julie, anne\n",
      "\n",
      "Cluster 4 top terms: maas, glass, throne, sarah, king, twisted, stephen, hoover, colleen, crows\n"
     ]
    }
   ],
   "source": [
    "# Top terms for text features only\n",
    "order_centroids = kmeans.cluster_centers_[:, :X_text.shape[1]].argsort()[:, ::-1]\n",
    "terms = tfidf.get_feature_names_out()\n",
    "\n",
    "for i in range(optimal_k):\n",
    "    top_terms = [terms[ind] for ind in order_centroids[i, :10]]\n",
    "    print(f\"\\nCluster {i} top terms: {', '.join(top_terms)}\")\n"
   ]
  },
  {
   "cell_type": "code",
   "execution_count": 11,
   "id": "5f59eae7",
   "metadata": {},
   "outputs": [],
   "source": [
    "cluster_labels = {\n",
    "    0: \"Mystery & Thriller\",\n",
    "    1: \"Horror / Suspense\",\n",
    "    2: \"Fiction & Fantasy\",\n",
    "    3: \"Fantasy & Sci-Fi\",\n",
    "    4: \"YA & Adventure\"\n",
    "}\n",
    "\n",
    "df['category'] = df['cluster'].map(cluster_labels)\n"
   ]
  },
  {
   "cell_type": "code",
   "execution_count": 12,
   "id": "f2faf363",
   "metadata": {},
   "outputs": [],
   "source": [
    "import joblib\n",
    "\n",
    "# Save TF-IDF vectorizer\n",
    "joblib.dump(tfidf, '../models/tfidf_vectorizer.pkl')\n",
    "\n",
    "# Save scaler\n",
    "joblib.dump(scaler, '../models/scaler.pkl')\n",
    "\n",
    "# Save KMeans model\n",
    "joblib.dump(kmeans, '../models/kmeans_model.pkl')\n",
    "\n",
    "# Save clustered dataset\n",
    "df.to_csv(\"../data/goodreads_books_clustered.csv\", index=False)\n"
   ]
  }
 ],
 "metadata": {
  "kernelspec": {
   "display_name": "Python 3",
   "language": "python",
   "name": "python3"
  },
  "language_info": {
   "codemirror_mode": {
    "name": "ipython",
    "version": 3
   },
   "file_extension": ".py",
   "mimetype": "text/x-python",
   "name": "python",
   "nbconvert_exporter": "python",
   "pygments_lexer": "ipython3",
   "version": "3.10.12"
  }
 },
 "nbformat": 4,
 "nbformat_minor": 5
}
